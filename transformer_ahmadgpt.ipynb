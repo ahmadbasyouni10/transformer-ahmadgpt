{
  "nbformat": 4,
  "nbformat_minor": 0,
  "metadata": {
    "colab": {
      "provenance": []
    },
    "kernelspec": {
      "name": "python3",
      "display_name": "Python 3"
    },
    "language_info": {
      "name": "python"
    }
  },
  "cells": [
    {
      "cell_type": "code",
      "execution_count": 20,
      "metadata": {
        "colab": {
          "base_uri": "https://localhost:8080/"
        },
        "id": "TEdOnCWTNrAH",
        "outputId": "30b5f229-34fb-43ff-f797-96799c974b25"
      },
      "outputs": [
        {
          "output_type": "stream",
          "name": "stdout",
          "text": [
            "--2025-02-02 02:50:22--  https://raw.githubusercontent.com/karpathy/char-rnn/master/data/tinyshakespeare/input.txt\n",
            "Resolving raw.githubusercontent.com (raw.githubusercontent.com)... 185.199.108.133, 185.199.110.133, 185.199.111.133, ...\n",
            "Connecting to raw.githubusercontent.com (raw.githubusercontent.com)|185.199.108.133|:443... connected.\n",
            "HTTP request sent, awaiting response... 200 OK\n",
            "Length: 1115394 (1.1M) [text/plain]\n",
            "Saving to: ‘input.txt.1’\n",
            "\n",
            "input.txt.1         100%[===================>]   1.06M  --.-KB/s    in 0.09s   \n",
            "\n",
            "2025-02-02 02:50:22 (11.8 MB/s) - ‘input.txt.1’ saved [1115394/1115394]\n",
            "\n"
          ]
        }
      ],
      "source": [
        "# web get, terminal command using!\n",
        "!wget https://raw.githubusercontent.com/karpathy/char-rnn/master/data/tinyshakespeare/input.txt"
      ]
    },
    {
      "cell_type": "code",
      "source": [
        "with open(\"input.txt\", \"r\", encoding=\"utf-8\") as f:\n",
        "  text = f.read()\n",
        "\n",
        "print(f\"Length of dataset in chars: {len(text)}\")"
      ],
      "metadata": {
        "colab": {
          "base_uri": "https://localhost:8080/"
        },
        "id": "-LW5neCPP_XX",
        "outputId": "317cb886-c6b6-405c-9f20-5ee3d47bde86"
      },
      "execution_count": 21,
      "outputs": [
        {
          "output_type": "stream",
          "name": "stdout",
          "text": [
            "Length of dataset in chars: 1115394\n"
          ]
        }
      ]
    },
    {
      "cell_type": "code",
      "source": [
        "print(text[:11])"
      ],
      "metadata": {
        "colab": {
          "base_uri": "https://localhost:8080/"
        },
        "id": "7tFO92JbRPMK",
        "outputId": "db060a01-189b-4c96-e46e-d2e1baadd34b"
      },
      "execution_count": 22,
      "outputs": [
        {
          "output_type": "stream",
          "name": "stdout",
          "text": [
            "First Citiz\n"
          ]
        }
      ]
    },
    {
      "cell_type": "code",
      "source": [
        "vocab = sorted(list(set(text)))\n",
        "vocab_size = len(vocab)\n",
        "print(vocab_size)\n",
        "print(\"\".join(vocab))\n",
        "print(\"\".join(list(set(vocab))))\n",
        "\n"
      ],
      "metadata": {
        "colab": {
          "base_uri": "https://localhost:8080/"
        },
        "id": "xYMThXmKRvRP",
        "outputId": "97c2d974-fea0-45e4-98d0-3fd53e0c49ae"
      },
      "execution_count": 43,
      "outputs": [
        {
          "output_type": "stream",
          "name": "stdout",
          "text": [
            "65\n",
            "\n",
            " !$&',-.3:;?ABCDEFGHIJKLMNOPQRSTUVWXYZabcdefghijklmnopqrstuvwxyz\n",
            "v&;igXFe:!I3kaJh'flpKP,- MZwtym?D.qnLQVUHGSWB\n",
            "xu$zARdbTjrNcEYCoOs\n"
          ]
        }
      ]
    },
    {
      "cell_type": "code",
      "source": [
        "str_to_int = {c:i for i, c in enumerate(vocab)}\n",
        "int_to_str = {i:c for i, c in enumerate(vocab)}\n",
        "encode = lambda x: [str_to_int[c] for c in x]\n",
        "decode = lambda x: \"\".join([int_to_str[n] for n in x])\n",
        "\n",
        "encoded = encode(\"Messi\")\n",
        "print(encoded)\n",
        "decoded = decode(encoded)\n",
        "print(decoded)\n"
      ],
      "metadata": {
        "colab": {
          "base_uri": "https://localhost:8080/"
        },
        "id": "bBsbB7-XUH8r",
        "outputId": "3f91f7ae-d890-4e0f-86be-82fa9f63c345"
      },
      "execution_count": 75,
      "outputs": [
        {
          "output_type": "stream",
          "name": "stdout",
          "text": [
            "[25, 43, 57, 57, 47]\n",
            "Messi\n"
          ]
        }
      ]
    },
    {
      "cell_type": "code",
      "source": [
        "# encode the entire text dataset and store it in a torch.tensor\n",
        "import torch\n",
        "data = torch.tensor(encode(text), dtype=torch.long)\n",
        "print(data.shape, data.dtype)\n",
        "print(data[:1000])"
      ],
      "metadata": {
        "colab": {
          "base_uri": "https://localhost:8080/"
        },
        "id": "4zIDuyWNUyi2",
        "outputId": "016ac6e9-33d6-428e-edb0-b31b93e25e44"
      },
      "execution_count": 25,
      "outputs": [
        {
          "output_type": "stream",
          "name": "stdout",
          "text": [
            "torch.Size([1115394]) torch.int64\n",
            "tensor([18, 47, 56, 57, 58,  1, 15, 47, 58, 47, 64, 43, 52, 10,  0, 14, 43, 44,\n",
            "        53, 56, 43,  1, 61, 43,  1, 54, 56, 53, 41, 43, 43, 42,  1, 39, 52, 63,\n",
            "         1, 44, 59, 56, 58, 46, 43, 56,  6,  1, 46, 43, 39, 56,  1, 51, 43,  1,\n",
            "        57, 54, 43, 39, 49,  8,  0,  0, 13, 50, 50, 10,  0, 31, 54, 43, 39, 49,\n",
            "         6,  1, 57, 54, 43, 39, 49,  8,  0,  0, 18, 47, 56, 57, 58,  1, 15, 47,\n",
            "        58, 47, 64, 43, 52, 10,  0, 37, 53, 59,  1, 39, 56, 43,  1, 39, 50, 50,\n",
            "         1, 56, 43, 57, 53, 50, 60, 43, 42,  1, 56, 39, 58, 46, 43, 56,  1, 58,\n",
            "        53,  1, 42, 47, 43,  1, 58, 46, 39, 52,  1, 58, 53,  1, 44, 39, 51, 47,\n",
            "        57, 46, 12,  0,  0, 13, 50, 50, 10,  0, 30, 43, 57, 53, 50, 60, 43, 42,\n",
            "         8,  1, 56, 43, 57, 53, 50, 60, 43, 42,  8,  0,  0, 18, 47, 56, 57, 58,\n",
            "         1, 15, 47, 58, 47, 64, 43, 52, 10,  0, 18, 47, 56, 57, 58,  6,  1, 63,\n",
            "        53, 59,  1, 49, 52, 53, 61,  1, 15, 39, 47, 59, 57,  1, 25, 39, 56, 41,\n",
            "        47, 59, 57,  1, 47, 57,  1, 41, 46, 47, 43, 44,  1, 43, 52, 43, 51, 63,\n",
            "         1, 58, 53,  1, 58, 46, 43,  1, 54, 43, 53, 54, 50, 43,  8,  0,  0, 13,\n",
            "        50, 50, 10,  0, 35, 43,  1, 49, 52, 53, 61,  5, 58,  6,  1, 61, 43,  1,\n",
            "        49, 52, 53, 61,  5, 58,  8,  0,  0, 18, 47, 56, 57, 58,  1, 15, 47, 58,\n",
            "        47, 64, 43, 52, 10,  0, 24, 43, 58,  1, 59, 57,  1, 49, 47, 50, 50,  1,\n",
            "        46, 47, 51,  6,  1, 39, 52, 42,  1, 61, 43,  5, 50, 50,  1, 46, 39, 60,\n",
            "        43,  1, 41, 53, 56, 52,  1, 39, 58,  1, 53, 59, 56,  1, 53, 61, 52,  1,\n",
            "        54, 56, 47, 41, 43,  8,  0, 21, 57,  5, 58,  1, 39,  1, 60, 43, 56, 42,\n",
            "        47, 41, 58, 12,  0,  0, 13, 50, 50, 10,  0, 26, 53,  1, 51, 53, 56, 43,\n",
            "         1, 58, 39, 50, 49, 47, 52, 45,  1, 53, 52,  5, 58, 11,  1, 50, 43, 58,\n",
            "         1, 47, 58,  1, 40, 43,  1, 42, 53, 52, 43, 10,  1, 39, 61, 39, 63,  6,\n",
            "         1, 39, 61, 39, 63,  2,  0,  0, 31, 43, 41, 53, 52, 42,  1, 15, 47, 58,\n",
            "        47, 64, 43, 52, 10,  0, 27, 52, 43,  1, 61, 53, 56, 42,  6,  1, 45, 53,\n",
            "        53, 42,  1, 41, 47, 58, 47, 64, 43, 52, 57,  8,  0,  0, 18, 47, 56, 57,\n",
            "        58,  1, 15, 47, 58, 47, 64, 43, 52, 10,  0, 35, 43,  1, 39, 56, 43,  1,\n",
            "        39, 41, 41, 53, 59, 52, 58, 43, 42,  1, 54, 53, 53, 56,  1, 41, 47, 58,\n",
            "        47, 64, 43, 52, 57,  6,  1, 58, 46, 43,  1, 54, 39, 58, 56, 47, 41, 47,\n",
            "        39, 52, 57,  1, 45, 53, 53, 42,  8,  0, 35, 46, 39, 58,  1, 39, 59, 58,\n",
            "        46, 53, 56, 47, 58, 63,  1, 57, 59, 56, 44, 43, 47, 58, 57,  1, 53, 52,\n",
            "         1, 61, 53, 59, 50, 42,  1, 56, 43, 50, 47, 43, 60, 43,  1, 59, 57, 10,\n",
            "         1, 47, 44,  1, 58, 46, 43, 63,  0, 61, 53, 59, 50, 42,  1, 63, 47, 43,\n",
            "        50, 42,  1, 59, 57,  1, 40, 59, 58,  1, 58, 46, 43,  1, 57, 59, 54, 43,\n",
            "        56, 44, 50, 59, 47, 58, 63,  6,  1, 61, 46, 47, 50, 43,  1, 47, 58,  1,\n",
            "        61, 43, 56, 43,  0, 61, 46, 53, 50, 43, 57, 53, 51, 43,  6,  1, 61, 43,\n",
            "         1, 51, 47, 45, 46, 58,  1, 45, 59, 43, 57, 57,  1, 58, 46, 43, 63,  1,\n",
            "        56, 43, 50, 47, 43, 60, 43, 42,  1, 59, 57,  1, 46, 59, 51, 39, 52, 43,\n",
            "        50, 63, 11,  0, 40, 59, 58,  1, 58, 46, 43, 63,  1, 58, 46, 47, 52, 49,\n",
            "         1, 61, 43,  1, 39, 56, 43,  1, 58, 53, 53,  1, 42, 43, 39, 56, 10,  1,\n",
            "        58, 46, 43,  1, 50, 43, 39, 52, 52, 43, 57, 57,  1, 58, 46, 39, 58,  0,\n",
            "        39, 44, 44, 50, 47, 41, 58, 57,  1, 59, 57,  6,  1, 58, 46, 43,  1, 53,\n",
            "        40, 48, 43, 41, 58,  1, 53, 44,  1, 53, 59, 56,  1, 51, 47, 57, 43, 56,\n",
            "        63,  6,  1, 47, 57,  1, 39, 57,  1, 39, 52,  0, 47, 52, 60, 43, 52, 58,\n",
            "        53, 56, 63,  1, 58, 53,  1, 54, 39, 56, 58, 47, 41, 59, 50, 39, 56, 47,\n",
            "        57, 43,  1, 58, 46, 43, 47, 56,  1, 39, 40, 59, 52, 42, 39, 52, 41, 43,\n",
            "        11,  1, 53, 59, 56,  0, 57, 59, 44, 44, 43, 56, 39, 52, 41, 43,  1, 47,\n",
            "        57,  1, 39,  1, 45, 39, 47, 52,  1, 58, 53,  1, 58, 46, 43, 51,  1, 24,\n",
            "        43, 58,  1, 59, 57,  1, 56, 43, 60, 43, 52, 45, 43,  1, 58, 46, 47, 57,\n",
            "         1, 61, 47, 58, 46,  0, 53, 59, 56,  1, 54, 47, 49, 43, 57,  6,  1, 43,\n",
            "        56, 43,  1, 61, 43,  1, 40, 43, 41, 53, 51, 43,  1, 56, 39, 49, 43, 57,\n",
            "        10,  1, 44, 53, 56,  1, 58, 46, 43,  1, 45, 53, 42, 57,  1, 49, 52, 53,\n",
            "        61,  1, 21,  0, 57, 54, 43, 39, 49,  1, 58, 46, 47, 57,  1, 47, 52,  1,\n",
            "        46, 59, 52, 45, 43, 56,  1, 44, 53, 56,  1, 40, 56, 43, 39, 42,  6,  1,\n",
            "        52, 53, 58,  1, 47, 52,  1, 58, 46, 47, 56, 57, 58,  1, 44, 53, 56,  1,\n",
            "        56, 43, 60, 43, 52, 45, 43,  8,  0,  0])\n"
          ]
        }
      ]
    },
    {
      "cell_type": "code",
      "source": [
        "# Lets now split up the data into train and validation sets\n",
        "\n",
        "n = int(0.9 * len(data))\n",
        "train_data = data[:n+1]\n",
        "print(len(data[:n+1]) / len(data))\n",
        "test_data = data[n+1:]\n",
        "print(len(data[n+1:]) / len(data))"
      ],
      "metadata": {
        "colab": {
          "base_uri": "https://localhost:8080/"
        },
        "id": "lEcAHT4JZabX",
        "outputId": "6c5111a8-40b8-485a-f90e-35ec16311b88"
      },
      "execution_count": 26,
      "outputs": [
        {
          "output_type": "stream",
          "name": "stdout",
          "text": [
            "0.9000003586176724\n",
            "0.09999964138232768\n"
          ]
        }
      ]
    },
    {
      "cell_type": "code",
      "source": [
        "# transformers arent trained on data all at once can be expensive\n",
        "# instead when we train we work with chunk of the dataset\n",
        "# chunks at a time\n",
        "# they have a length max_length called block_size or context_length\n",
        "\n",
        "block_size = 8\n",
        "train_data[:block_size+1]\n",
        "\n",
        "# this is one example of context_size 8 but within it has 8 examples bc from first token will try to\n",
        "# predict what token comes next\n",
        "# gpt would predict what word comes next thats why the vocab of the model is 50k while ours is 65 because more unique\n",
        "# words than unique letters, but then when we encode a token when using a small vocab the encoding is\n",
        "# longer in length than the encoding length of gpt token bc would be able to cover a word with one number\n",
        "# than our tokenization which is one word with manyy numbers"
      ],
      "metadata": {
        "colab": {
          "base_uri": "https://localhost:8080/"
        },
        "id": "CAem5MPDah6l",
        "outputId": "5ded0e1a-0eb6-4235-f511-b55ae4eb9569"
      },
      "execution_count": 27,
      "outputs": [
        {
          "output_type": "execute_result",
          "data": {
            "text/plain": [
              "tensor([18, 47, 56, 57, 58,  1, 15, 47, 58])"
            ]
          },
          "metadata": {},
          "execution_count": 27
        }
      ]
    },
    {
      "cell_type": "code",
      "source": [
        "x = train_data[:block_size]\n",
        "y = train_data[1:block_size+1]\n",
        "\n",
        "for i in range(block_size):\n",
        "  context = train_data[:i+1]\n",
        "  target = y[i]\n",
        "  print(f\"When input is {context} the target is {target}\")\n"
      ],
      "metadata": {
        "id": "x6jozFSoeAAR",
        "colab": {
          "base_uri": "https://localhost:8080/"
        },
        "outputId": "bca9e700-0601-4803-fe44-2fe22cdc9fc5"
      },
      "execution_count": 28,
      "outputs": [
        {
          "output_type": "stream",
          "name": "stdout",
          "text": [
            "When input is tensor([18]) the target is 47\n",
            "When input is tensor([18, 47]) the target is 56\n",
            "When input is tensor([18, 47, 56]) the target is 57\n",
            "When input is tensor([18, 47, 56, 57]) the target is 58\n",
            "When input is tensor([18, 47, 56, 57, 58]) the target is 1\n",
            "When input is tensor([18, 47, 56, 57, 58,  1]) the target is 15\n",
            "When input is tensor([18, 47, 56, 57, 58,  1, 15]) the target is 47\n",
            "When input is tensor([18, 47, 56, 57, 58,  1, 15, 47]) the target is 58\n"
          ]
        }
      ]
    },
    {
      "cell_type": "code",
      "source": [
        "# This is helpful for our transformer because it will be helpful in inference or testing\n",
        "# the transformer will get used to predicting next token with context of one token or up to the\n",
        "# context length (block_size). Transformer will never receive more context than context length / block size\n",
        "# so when we are at limit we truncate the beginning of the context window and will have space to add another\n",
        "# token to the front"
      ],
      "metadata": {
        "id": "gcLHftd0gebq"
      },
      "execution_count": 29,
      "outputs": []
    },
    {
      "cell_type": "markdown",
      "source": [],
      "metadata": {
        "id": "5XUKesX9lGgB"
      }
    },
    {
      "cell_type": "code",
      "source": [
        "# so far this is time dimension so we see how over time we need to see if the transformer can predict next token\n",
        "# batch dimension is stacking up more than one example at same time bc of gpu parallelism\n",
        "# multiple chunks of text\n"
      ],
      "metadata": {
        "id": "jBN46D_tiUYJ"
      },
      "execution_count": 30,
      "outputs": []
    },
    {
      "cell_type": "code",
      "source": [
        "torch.manual_seed(1337) # to sample random locations in the data set to pull chunks from of length context_size this will ensure that the randint will be same for us\n",
        "batch_size = 4 # how many sequences every forward backwards pass for transformer\n",
        "block_size = 8\n",
        "\n",
        "def get_batch(split):\n",
        "  # generate a small batch of data inputs x and targets y\n",
        "  data = train_data if split == \"train\" else test_data\n",
        "  ix = torch.randint(len(data) - block_size, (batch_size,))\n",
        "  # will get a 4 by 8 tensor\n",
        "  # 4 sequences, each sequence size 8\n",
        "  # the y at each corresponding will be the target the x needs\n",
        "  # to predict next\n",
        "  x = torch.stack([data[i:i+block_size] for i in ix])\n",
        "  y = torch.stack([data[i+1:i+1+block_size] for i in ix])\n",
        "  return x,y\n",
        "\n",
        "xb, yb = get_batch(\"train\")\n",
        "print(\"inputs:\")\n",
        "print(xb.shape)\n",
        "print(xb)\n",
        "print(\"targets\")\n",
        "print(yb.shape)\n",
        "print(yb)\n",
        "\n",
        "print(\"-----\")\n",
        "\n",
        "for b in range(batch_size):\n",
        "  for t in range(block_size):\n",
        "    context = xb[b, :t+1]\n",
        "    target = yb[b, t]\n",
        "    print(f\"Batch #{b}, When input is {context}, the target is {target}\")\n",
        "\n",
        "# We covered time dimension now and the batch dimension\n"
      ],
      "metadata": {
        "colab": {
          "base_uri": "https://localhost:8080/"
        },
        "id": "gNsn8sktlpZh",
        "outputId": "79219470-26b8-4852-a4b8-060ec940af41"
      },
      "execution_count": 31,
      "outputs": [
        {
          "output_type": "stream",
          "name": "stdout",
          "text": [
            "inputs:\n",
            "torch.Size([4, 8])\n",
            "tensor([[56,  6,  0, 24, 43, 58,  1, 61],\n",
            "        [39, 47, 51,  1, 58, 46, 39, 58],\n",
            "        [52, 45,  1, 58, 53,  1, 57, 39],\n",
            "        [43, 47, 52, 45,  1, 46, 53, 50]])\n",
            "targets\n",
            "torch.Size([4, 8])\n",
            "tensor([[ 6,  0, 24, 43, 58,  1, 61, 46],\n",
            "        [47, 51,  1, 58, 46, 39, 58,  1],\n",
            "        [45,  1, 58, 53,  1, 57, 39, 63],\n",
            "        [47, 52, 45,  1, 46, 53, 50, 47]])\n",
            "-----\n",
            "Batch #0, When input is tensor([56]), the target is 6\n",
            "Batch #0, When input is tensor([56,  6]), the target is 0\n",
            "Batch #0, When input is tensor([56,  6,  0]), the target is 24\n",
            "Batch #0, When input is tensor([56,  6,  0, 24]), the target is 43\n",
            "Batch #0, When input is tensor([56,  6,  0, 24, 43]), the target is 58\n",
            "Batch #0, When input is tensor([56,  6,  0, 24, 43, 58]), the target is 1\n",
            "Batch #0, When input is tensor([56,  6,  0, 24, 43, 58,  1]), the target is 61\n",
            "Batch #0, When input is tensor([56,  6,  0, 24, 43, 58,  1, 61]), the target is 46\n",
            "Batch #1, When input is tensor([39]), the target is 47\n",
            "Batch #1, When input is tensor([39, 47]), the target is 51\n",
            "Batch #1, When input is tensor([39, 47, 51]), the target is 1\n",
            "Batch #1, When input is tensor([39, 47, 51,  1]), the target is 58\n",
            "Batch #1, When input is tensor([39, 47, 51,  1, 58]), the target is 46\n",
            "Batch #1, When input is tensor([39, 47, 51,  1, 58, 46]), the target is 39\n",
            "Batch #1, When input is tensor([39, 47, 51,  1, 58, 46, 39]), the target is 58\n",
            "Batch #1, When input is tensor([39, 47, 51,  1, 58, 46, 39, 58]), the target is 1\n",
            "Batch #2, When input is tensor([52]), the target is 45\n",
            "Batch #2, When input is tensor([52, 45]), the target is 1\n",
            "Batch #2, When input is tensor([52, 45,  1]), the target is 58\n",
            "Batch #2, When input is tensor([52, 45,  1, 58]), the target is 53\n",
            "Batch #2, When input is tensor([52, 45,  1, 58, 53]), the target is 1\n",
            "Batch #2, When input is tensor([52, 45,  1, 58, 53,  1]), the target is 57\n",
            "Batch #2, When input is tensor([52, 45,  1, 58, 53,  1, 57]), the target is 39\n",
            "Batch #2, When input is tensor([52, 45,  1, 58, 53,  1, 57, 39]), the target is 63\n",
            "Batch #3, When input is tensor([43]), the target is 47\n",
            "Batch #3, When input is tensor([43, 47]), the target is 52\n",
            "Batch #3, When input is tensor([43, 47, 52]), the target is 45\n",
            "Batch #3, When input is tensor([43, 47, 52, 45]), the target is 1\n",
            "Batch #3, When input is tensor([43, 47, 52, 45,  1]), the target is 46\n",
            "Batch #3, When input is tensor([43, 47, 52, 45,  1, 46]), the target is 53\n",
            "Batch #3, When input is tensor([43, 47, 52, 45,  1, 46, 53]), the target is 50\n",
            "Batch #3, When input is tensor([43, 47, 52, 45,  1, 46, 53, 50]), the target is 47\n"
          ]
        }
      ]
    },
    {
      "cell_type": "code",
      "source": [
        "# We have 4 batches, each have time dimension context length / block size\n",
        "# of 8 so we really have 32 examples for the transformer to learn\n",
        "# during training"
      ],
      "metadata": {
        "id": "0WPVmtcPKplN"
      },
      "execution_count": 32,
      "outputs": []
    },
    {
      "cell_type": "markdown",
      "source": [],
      "metadata": {
        "id": "i4S_SkJIjw1F"
      }
    },
    {
      "cell_type": "code",
      "source": [
        "import torch\n",
        "import torch.nn as nn\n",
        "from torch.nn import functional as F\n",
        "torch.manual_seed(1337)\n",
        "\n",
        "class BigramLanguageModel(nn.Module):\n",
        "  def __init__(self, vocab_size):\n",
        "    super().__init__()\n",
        "    self.token_embedding_table = nn.Embedding(vocab_size, vocab_size)\n",
        "\n",
        "  def forward(self, idx, targets=None):\n",
        "    logits = self.token_embedding_table(idx)\n",
        "    if targets is None:\n",
        "      loss = None\n",
        "    else:\n",
        "      B,T,C = logits.shape\n",
        "      logits = logits.view(B*T, C)\n",
        "    # targets = targets.view(-1) let pytorch lay it out\n",
        "      targets = targets.view(B*T)\n",
        "      loss = F.cross_entropy(logits, targets)\n",
        "\n",
        "    return logits, loss\n",
        "\n",
        "  def generate(self, idx, max_new_tokens):\n",
        "    for __ in range(max_new_tokens):\n",
        "      # doing this will pass the xb into the forward method\n",
        "      logits, loss = self(idx)\n",
        "\n",
        "      # We want the logits for the last token only since generating\n",
        "      # based on current context\n",
        "      logits = logits[:, -1, :]\n",
        "\n",
        "      # normalize using softmax 0 to 1 on dim 1 because the logits are in tensor\n",
        "      # [[......]]\n",
        "      probs = F.softmax(logits, dim = -1)\n",
        "\n",
        "      # torch.multinomial samples one token per batch element\n",
        "      # based on probs in probs\n",
        "      idx_next = torch.multinomial(probs, num_samples=1)\n",
        "      res = []\n",
        "      val = int(idx_next[0][0].item())\n",
        "      res.append(val)\n",
        "\n",
        "      idx = torch.cat((idx, idx_next), dim=1)\n",
        "\n",
        "    # Return final sequence after generating max_new_tokens\n",
        "    return idx\n",
        "\n",
        "\n",
        "m = BigramLanguageModel(vocab_size)\n",
        "logits, loss = m(xb, yb)\n",
        "print(logits.shape)\n",
        "print(loss)\n",
        "\n",
        "idx = torch.zeros((1,1), dtype=torch.long)\n",
        "value = decode(m.generate(idx, max_new_tokens=100)[0].tolist())\n",
        "print(value, len(value))\n",
        "print(list(value))"
      ],
      "metadata": {
        "id": "pAkNxK5IjuhA",
        "colab": {
          "base_uri": "https://localhost:8080/"
        },
        "outputId": "495150a1-4f4b-499c-e20e-4b169eea6d89"
      },
      "execution_count": 77,
      "outputs": [
        {
          "output_type": "stream",
          "name": "stdout",
          "text": [
            "torch.Size([32, 65])\n",
            "tensor(4.6437, grad_fn=<NllLossBackward0>)\n",
            "\n",
            "Sr?qP-QWktXoL&jLDJgOLVz'RIoDqHdhsV&vLLxatjscMpwLERSPyao.qfzs$Ys$zF-w,;eEkzxjgCKFChs!iWW.ObzDnxA Ms$3 101\n",
            "['\\n', 'S', 'r', '?', 'q', 'P', '-', 'Q', 'W', 'k', 't', 'X', 'o', 'L', '&', 'j', 'L', 'D', 'J', 'g', 'O', 'L', 'V', 'z', \"'\", 'R', 'I', 'o', 'D', 'q', 'H', 'd', 'h', 's', 'V', '&', 'v', 'L', 'L', 'x', 'a', 't', 'j', 's', 'c', 'M', 'p', 'w', 'L', 'E', 'R', 'S', 'P', 'y', 'a', 'o', '.', 'q', 'f', 'z', 's', '$', 'Y', 's', '$', 'z', 'F', '-', 'w', ',', ';', 'e', 'E', 'k', 'z', 'x', 'j', 'g', 'C', 'K', 'F', 'C', 'h', 's', '!', 'i', 'W', 'W', '.', 'O', 'b', 'z', 'D', 'n', 'x', 'A', ' ', 'M', 's', '$', '3']\n"
          ]
        }
      ]
    },
    {
      "cell_type": "code",
      "source": [
        "# We will keep the generate func like this for now, because rn silly\n",
        "# and we only using the last token to predict next one"
      ],
      "metadata": {
        "id": "fHm9s74iuzIu"
      },
      "execution_count": null,
      "outputs": []
    },
    {
      "cell_type": "code",
      "source": [
        "# Train the model\n",
        "# Create a pytorch optimizer\n",
        "optimizer = torch.optim.AdamW(m.parameters(), lr=1e-3)"
      ],
      "metadata": {
        "id": "vdV4RGXyvfJh"
      },
      "execution_count": 78,
      "outputs": []
    },
    {
      "cell_type": "code",
      "source": [
        "batch_size = 32\n",
        "for steps in range(10000):\n",
        "  xb, yb = get_batch(\"train\")\n",
        "\n",
        "  logits, loss = m(xb, yb)\n",
        "  # reset tensors (none so pytorch doesnt have to allocate memory for zero tensors)\n",
        "  optimizer.zero_grad(set_to_none=True)\n",
        "  # find out which weights are contributing to the loss, and direction to move\n",
        "  loss.backward()\n",
        "  # apply this direction to move towards local minimum (loss func)\n",
        "  optimizer.step()\n",
        "\n",
        "print(loss.item())"
      ],
      "metadata": {
        "colab": {
          "base_uri": "https://localhost:8080/"
        },
        "id": "k6hRbxOBwtIh",
        "outputId": "3312aec2-af38-42fe-85f5-aff42f624bca"
      },
      "execution_count": 84,
      "outputs": [
        {
          "output_type": "stream",
          "name": "stdout",
          "text": [
            "2.4921743869781494\n"
          ]
        }
      ]
    },
    {
      "cell_type": "code",
      "source": [
        "decode(m.generate(idx, max_new_tokens=400)[0].tolist())"
      ],
      "metadata": {
        "colab": {
          "base_uri": "https://localhost:8080/",
          "height": 107
        },
        "id": "lfJ6R6vl2bFQ",
        "outputId": "ff1faec1-1443-4064-ceaf-ce73b5f338dc"
      },
      "execution_count": 86,
      "outputs": [
        {
          "output_type": "execute_result",
          "data": {
            "text/plain": [
              "\"\\nFor ous ay whundlyo d yome PULAXimuriusanro; shes dur'd, s at CEn CURDYWey t havee to d.\\nBucee n r owis poboungalknajus fo tze yonout eit r thom t, ch ar t g\\nI LOfarsmalle thenierd p ourry, be ho.\\n\\n\\nOLI'd TII thithoubepred dar toris, thaums, athacknthene, traMe ars ame nen; frs thengl courit,\\nAn.\\nMe seionnghthathus. momees rdoude d the sth\\n\\nII ingis ifre h pomo guk f toare are:\\nSanonogrdinotofifur\""
            ],
            "application/vnd.google.colaboratory.intrinsic+json": {
              "type": "string"
            }
          },
          "metadata": {},
          "execution_count": 86
        }
      ]
    }
  ]
}